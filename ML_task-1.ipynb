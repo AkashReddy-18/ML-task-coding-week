{
 "cells": [
  {
   "cell_type": "code",
   "execution_count": 12,
   "id": "ef369398",
   "metadata": {},
   "outputs": [],
   "source": [
    "import numpy as np\n",
    "import pandas as pd\n",
    "import matplotlib.pyplot as plt\n",
    "import seaborn as sns"
   ]
  },
  {
   "cell_type": "code",
   "execution_count": 13,
   "id": "3136d192",
   "metadata": {},
   "outputs": [],
   "source": [
    "df=pd.read_csv('C:/Users/vasav/py.prog/Dataset.csv')"
   ]
  },
  {
   "cell_type": "markdown",
   "id": "be34e990",
   "metadata": {},
   "source": [
    "About Feature_1:"
   ]
  },
  {
   "cell_type": "code",
   "execution_count": 18,
   "id": "1a823fde",
   "metadata": {},
   "outputs": [
    {
     "name": "stdout",
     "output_type": "stream",
     "text": [
      "17.0\n",
      "16.74795417348609\n",
      "17.0\n",
      "Feature_1\n",
      "17.0    170\n",
      "16.0    169\n",
      "18.0    130\n",
      "15.0    103\n",
      "19.0     30\n",
      "20.0      6\n",
      "21.0      2\n",
      "22.0      1\n",
      "Name: count, dtype: int64\n"
     ]
    }
   ],
   "source": [
    "print(df['Feature_1'].mode()[0])\n",
    "print(df['Feature_1'].mean())\n",
    "print(df['Feature_1'].median())\n",
    "print(df['Feature_1'].value_counts())\n"
   ]
  },
  {
   "cell_type": "markdown",
   "id": "4c91ad5c",
   "metadata": {},
   "source": [
    "ABout Feature_2:"
   ]
  },
  {
   "cell_type": "code",
   "execution_count": 15,
   "id": "d81443bb",
   "metadata": {},
   "outputs": [
    {
     "name": "stdout",
     "output_type": "stream",
     "text": [
      "2.0\n",
      "1.913764510779436\n",
      "2.0\n",
      "Feature_2\n",
      "2.0    279\n",
      "1.0    204\n",
      "3.0     88\n",
      "4.0     32\n",
      "Name: count, dtype: int64\n"
     ]
    }
   ],
   "source": [
    "print(df['Feature_2'].mode()[0])\n",
    "print(df['Feature_2'].mean())\n",
    "print(df['Feature_2'].median())\n",
    "print(df['Feature_2'].value_counts())"
   ]
  },
  {
   "cell_type": "markdown",
   "id": "6f3da416",
   "metadata": {},
   "source": [
    "About Feature_3:"
   ]
  },
  {
   "cell_type": "code",
   "execution_count": 19,
   "id": "36bde6cf",
   "metadata": {},
   "outputs": [
    {
     "name": "stdout",
     "output_type": "stream",
     "text": [
      "1.0\n",
      "2.262295081967213\n",
      "2.0\n",
      "Feature_3\n",
      "1.0    239\n",
      "2.0    137\n",
      "3.0    109\n",
      "4.0     85\n",
      "5.0     40\n",
      "Name: count, dtype: int64\n"
     ]
    }
   ],
   "source": [
    "print(df['Feature_3'].mode()[0])\n",
    "print(df['Feature_3'].mean())\n",
    "print(df['Feature_3'].median())\n",
    "print(df['Feature_3'].value_counts())"
   ]
  },
  {
   "cell_type": "code",
   "execution_count": 24,
   "id": "3655d1d0",
   "metadata": {},
   "outputs": [],
   "source": [
    "#df['famsize'] = df['famsize'].fillna((df['famsize'].mode()[0]))\n",
    "#df['traveltime'] = df['traveltime'].fillna(df['traveltime'].mean())\n",
    "#df['Fedu']=df['Fedu'].fillna(round(df['Fedu'].mean()))\n",
    "#df['higher']=df['higher'].fillna(df['higher'].mode()[0])\n",
    "#df['freetime']=df['freetime'].fillna(df['freetime'].mode()[0])\n",
    "#df['absences']=df['absences'].fillna(round(df['absences'].mean()))\n",
    "#df['G2']=df['G2'].fillna(round(df['G2'].mean()))\n",
    "#df['Feature_1']=df['Feature_1'].fillna(df['Feature_1'].mode()[0])"
   ]
  }
 ],
 "metadata": {
  "kernelspec": {
   "display_name": "Python 3",
   "language": "python",
   "name": "python3"
  },
  "language_info": {
   "codemirror_mode": {
    "name": "ipython",
    "version": 3
   },
   "file_extension": ".py",
   "mimetype": "text/x-python",
   "name": "python",
   "nbconvert_exporter": "python",
   "pygments_lexer": "ipython3",
   "version": "3.13.2"
  }
 },
 "nbformat": 4,
 "nbformat_minor": 5
}
